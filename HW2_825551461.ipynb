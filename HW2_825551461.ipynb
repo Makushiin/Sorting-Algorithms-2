{
  "nbformat": 4,
  "nbformat_minor": 0,
  "metadata": {
    "colab": {
      "provenance": []
    },
    "kernelspec": {
      "name": "python3",
      "display_name": "Python 3"
    },
    "language_info": {
      "name": "python"
    }
  },
  "cells": [
    {
      "cell_type": "markdown",
      "source": [
        "# **Q1. Quick Sort**"
      ],
      "metadata": {
        "id": "hXPHFM_w7sa_"
      }
    },
    {
      "cell_type": "code",
      "source": [
        "import numpy as np\n",
        "from timeit import default_timer as timer\n",
        "\n",
        "#(A[i], A[0]) = (A[0], A[i])  # exchange A[0] with A[i]\n",
        "import sys\n",
        "sys.setrecursionlimit(1500)"
      ],
      "metadata": {
        "id": "-gYnTS_u8NoK"
      },
      "execution_count": 1,
      "outputs": []
    },
    {
      "cell_type": "code",
      "source": [
        "def quickSort(A, p, r):\n",
        "    if p < r:\n",
        "        q = partition(A, p, r)\n",
        "        quickSort(A, p, q - 1)\n",
        "        quickSort(A, q + 1, r)\n",
        "\n",
        "def partition(A, p, r):\n",
        "    x = A[r] #pivot point\n",
        "    i = p - 1\n",
        "\n",
        "    for j in range(p, r):\n",
        "        if A[j] <= x:\n",
        "            i = i + 1\n",
        "            (A[i], A[j]) = (A[j], A[i]) #exchange A[i] with A[j]\n",
        "    (A[i + 1], A[r]) = (A[r], A[i + 1]) #exchange A[i + 1] with A[r]\n",
        "    return i + 1"
      ],
      "metadata": {
        "id": "F4ndg2sI97J1"
      },
      "execution_count": 2,
      "outputs": []
    },
    {
      "cell_type": "code",
      "source": [
        "#random order\n",
        "A = np.random.randint(0, 1000, 1000)\n",
        "\n",
        "start = timer()\n",
        "quickSort(A, 0, len(A) - 1) \n",
        "end = timer()\n",
        "print(end - start)"
      ],
      "metadata": {
        "colab": {
          "base_uri": "https://localhost:8080/"
        },
        "id": "zhmeUsuw7wR0",
        "outputId": "f6410f71-8e11-4ba2-9c96-a63f17a4249e"
      },
      "execution_count": 3,
      "outputs": [
        {
          "output_type": "stream",
          "name": "stdout",
          "text": [
            "0.006858524000563193\n"
          ]
        }
      ]
    },
    {
      "cell_type": "code",
      "source": [
        "#ascending order\n",
        "A = np.arange(0, 1000)\n",
        "\n",
        "start = timer()\n",
        "quickSort(A, 0, len(A) - 1) \n",
        "end = timer()\n",
        "print(end - start)"
      ],
      "metadata": {
        "colab": {
          "base_uri": "https://localhost:8080/"
        },
        "id": "D01FW7_X8ej8",
        "outputId": "95e5cba6-dcc2-4b8a-9204-9f2bb892d2c7"
      },
      "execution_count": 4,
      "outputs": [
        {
          "output_type": "stream",
          "name": "stdout",
          "text": [
            "0.46447237099982885\n"
          ]
        }
      ]
    },
    {
      "cell_type": "code",
      "source": [
        "#descending order\n",
        "A = np.arange(1000, 0 , -1)\n",
        "\n",
        "start = timer()\n",
        "quickSort(A, 0, len(A) - 1) \n",
        "end = timer()\n",
        "print(end - start)"
      ],
      "metadata": {
        "colab": {
          "base_uri": "https://localhost:8080/"
        },
        "id": "4wyu8uJL8sA7",
        "outputId": "a05925fc-49bf-4ef9-dcfc-9a45a2870c35"
      },
      "execution_count": 5,
      "outputs": [
        {
          "output_type": "stream",
          "name": "stdout",
          "text": [
            "0.198256322000816\n"
          ]
        }
      ]
    },
    {
      "cell_type": "markdown",
      "source": [
        "**Explain why the running time of Q1-(2) and Q1-(3) is greater than the running time of Q1-(1).**\n",
        "\n",
        "When the array is either sorted in ascending or descending order the pivot point is     x = A[r]. In the ascending case that is the biggest number and in the descending case, that is the smallest number. That causes half the partition to be 1 and the other half be size of n-1 and requires O(n) recursive calls so the worst case scenario is O(n^2). Having the array already be in a random order helps prevent that scenario from happening because the array will be divided in branches of equal size so that the height of the tree will be mininum."
      ],
      "metadata": {
        "id": "iN8FS0ouh8yw"
      }
    },
    {
      "cell_type": "markdown",
      "source": [
        "**Can you modify the quicksort algorithm to improve the running time for Q1-(2) and Q1-(3) cases? If so, implement the modification and record the running time for sorting the arrays in Q1-(2) and Q1-(3)**\n",
        "\n",
        "I will be changing the pivot to be the middle value in the array."
      ],
      "metadata": {
        "id": "98jwJYNhrkVC"
      }
    },
    {
      "cell_type": "code",
      "source": [
        "def quickSortVersion2(A, p, r):\n",
        "    if p < r:\n",
        "        q = partitionVersion2(A, p, r)\n",
        "        quickSortVersion2(A, p, q - 1)\n",
        "        quickSortVersion2(A, q + 1, r)\n",
        "\n",
        "def partitionVersion2(A, p, r):\n",
        "    x = p + (r - 1) // 2 #pivot point\n",
        "    i = p - 1\n",
        "\n",
        "    for j in range(p, r):\n",
        "        if A[j] <= x:\n",
        "            i = i + 1\n",
        "            (A[i], A[j]) = (A[j], A[i]) #exchange A[i] with A[j]\n",
        "    (A[i + 1], A[r]) = (A[r], A[i + 1]) #exchange A[i + 1] with A[r]\n",
        "    return i + 1"
      ],
      "metadata": {
        "id": "Ms2E4Av-riYH"
      },
      "execution_count": 6,
      "outputs": []
    },
    {
      "cell_type": "code",
      "source": [
        "#ascending order\n",
        "A = np.arange(0, 1000)\n",
        "\n",
        "start = timer()\n",
        "quickSort(A, 0, len(A) - 1) \n",
        "end = timer()\n",
        "print('Ascending time: ', end - start)\n",
        "\n",
        "#descending order\n",
        "A = np.arange(1000, 0 , -1)\n",
        "\n",
        "start = timer()\n",
        "quickSort(A, 0, len(A) - 1) \n",
        "end = timer()\n",
        "print('Descending time: ', end - start)"
      ],
      "metadata": {
        "colab": {
          "base_uri": "https://localhost:8080/"
        },
        "id": "YDDWEGMjsYAb",
        "outputId": "291b1ea7-9ee8-48fd-dac6-88765e0264e4"
      },
      "execution_count": 7,
      "outputs": [
        {
          "output_type": "stream",
          "name": "stdout",
          "text": [
            "Ascending time:  0.29720115100008115\n",
            "Descending time:  0.17784333500003413\n"
          ]
        }
      ]
    },
    {
      "cell_type": "markdown",
      "source": [
        "# **Q2. Heap Sort**"
      ],
      "metadata": {
        "id": "Ca2dgF7BfZpR"
      }
    },
    {
      "cell_type": "code",
      "source": [
        "def heapify(A, n, i):\n",
        "    smallest = i #smallest = root\n",
        "    l = 2 * i + 1 #left\n",
        "    r = 2 * i + 2 #right\n",
        " \n",
        "    # If left smaller than A[smallest]\n",
        "    if l < n and A[l] < A[smallest]:\n",
        "        smallest = l\n",
        " \n",
        "    # If right smaller than A[smallest]\n",
        "    if r < n and A[r] < A[smallest]:\n",
        "        smallest = r\n",
        " \n",
        "    # If smallest is not root\n",
        "    if smallest != i:\n",
        "        (A[i], A[smallest]) = (A[smallest], A[i]) #exchange A[i] with A\n",
        "        heapify(A, n, smallest) # Recursively heapify for subtrees"
      ],
      "metadata": {
        "id": "uWSc-sLlfcwg"
      },
      "execution_count": 8,
      "outputs": []
    },
    {
      "cell_type": "code",
      "source": [
        "def maxHeap(A):\n",
        "    n = len(A)\n",
        "\n",
        "    for i in range(n // 2 - 1, -1, -1):\n",
        "        heapify(A, n, i)"
      ],
      "metadata": {
        "id": "_1Zv8NNRongr"
      },
      "execution_count": 9,
      "outputs": []
    },
    {
      "cell_type": "code",
      "source": [
        "def heapSort(A):\n",
        "    maxHeap(A)\n",
        "    n = len(A)\n",
        "\n",
        "    for i in range(n - 1, 0, -1):\n",
        "        (A[i], A[0]) = (A[0], A[i])  # exchange A[1] with A[i]\n",
        "        heapify(A, i, 0)"
      ],
      "metadata": {
        "id": "U69iUHKen4fU"
      },
      "execution_count": 10,
      "outputs": []
    },
    {
      "cell_type": "code",
      "source": [
        "# Driver\n",
        "A = [-31, 53, 84, 62, -32, -97, -19, 6, 33, 56, 28, -7, 54, 53, 2, -27, 36, 21, 37, -90]\n",
        "print('Original Array: ', A)\n",
        "\n",
        "heapSort(A)\n",
        "n = len(A)\n",
        "\n",
        "print(\"Sorted: \", A)"
      ],
      "metadata": {
        "colab": {
          "base_uri": "https://localhost:8080/"
        },
        "id": "4n50R9rzn_u7",
        "outputId": "86b967ce-0893-4bc9-f069-9306e301bfda"
      },
      "execution_count": 11,
      "outputs": [
        {
          "output_type": "stream",
          "name": "stdout",
          "text": [
            "Original Array:  [-31, 53, 84, 62, -32, -97, -19, 6, 33, 56, 28, -7, 54, 53, 2, -27, 36, 21, 37, -90]\n",
            "Sorted:  [84, 62, 56, 54, 53, 53, 37, 36, 33, 28, 21, 6, 2, -7, -19, -27, -31, -32, -90, -97]\n"
          ]
        }
      ]
    },
    {
      "cell_type": "markdown",
      "source": [
        "# **Q3. Red, White, Blue Sort**"
      ],
      "metadata": {
        "id": "to4GCMMfwAdP"
      }
    },
    {
      "cell_type": "code",
      "source": [
        "#code taken from my hw 1 submission\n",
        "def InsertionSort(A, n):\n",
        "    for i in range(1, n):        \n",
        "        key = A[i]\n",
        "        j = i - 1\n",
        "\n",
        "        while j >= 0 and key < A[j]:\n",
        "            A[j + 1] = A[j]\n",
        "            j -= 1\n",
        "        A[j + 1] = key\n",
        "    return A"
      ],
      "metadata": {
        "id": "DkjHInkb6R2S"
      },
      "execution_count": 12,
      "outputs": []
    },
    {
      "cell_type": "code",
      "source": [
        "# Driver\n",
        "A = [0, 2, 1, 1, 1, 2, 2, 2, 1, 2, 1, 0, 1, 1, 0, 1, 0, 1, 0, 2, 0, 2, 1, 1, 1, 0, 2, 0, 1, 0]\n",
        "print('Original Array: ', A)\n",
        "\n",
        "n = len(A)\n",
        "A = InsertionSort(A, n)\n",
        "\n",
        "print(\"Sorted: \", A)"
      ],
      "metadata": {
        "colab": {
          "base_uri": "https://localhost:8080/"
        },
        "id": "GpkmjdcH7XNz",
        "outputId": "93447ee8-3e47-4b87-8715-1c35c1b8b639"
      },
      "execution_count": 13,
      "outputs": [
        {
          "output_type": "stream",
          "name": "stdout",
          "text": [
            "Original Array:  [0, 2, 1, 1, 1, 2, 2, 2, 1, 2, 1, 0, 1, 1, 0, 1, 0, 1, 0, 2, 0, 2, 1, 1, 1, 0, 2, 0, 1, 0]\n",
            "Sorted:  [0, 0, 0, 0, 0, 0, 0, 0, 0, 1, 1, 1, 1, 1, 1, 1, 1, 1, 1, 1, 1, 1, 2, 2, 2, 2, 2, 2, 2, 2]\n"
          ]
        }
      ]
    },
    {
      "cell_type": "markdown",
      "source": [
        "# **Q4. Max-Min**"
      ],
      "metadata": {
        "id": "07oAhKMcuc_X"
      }
    },
    {
      "cell_type": "code",
      "source": [
        "import sys\n",
        "sys.setrecursionlimit(1500)\n",
        "\n",
        "def maxMin(A, left, right):    \n",
        "    max = A[left]\n",
        "    min = A[left]\n",
        "    \n",
        "    if left == right: #one element        \n",
        "        max = A[left]\n",
        "        min = A[left]\n",
        "        return min, max\n",
        "\n",
        "    elif right - left == 1: #two elements\n",
        "        if A[left] < A[right]:      \n",
        "            min = A[left]\n",
        "            max = A[right]\n",
        "        else:\n",
        "            min = A[right]\n",
        "            max = A[left]\n",
        " \n",
        "        return min, max\n",
        "\n",
        "    else: #more than 2 elements\n",
        "        mid = int((left + right) / 2)\n",
        "        min1, max1 = maxMin(A, left, mid) #left subtree\n",
        "        min2, max2 = maxMin(A, mid + 1, right) #right subtree\n",
        "\n",
        "        if (min1 > min2):\n",
        "            min = min2\n",
        "        else:\n",
        "            min = min1\n",
        "\n",
        "        if (max1 > max2):\n",
        "            max = max1\n",
        "        else:\n",
        "            max = max2\n",
        "\n",
        "        return min, max"
      ],
      "metadata": {
        "id": "-nUeJXyOugzo"
      },
      "execution_count": 14,
      "outputs": []
    },
    {
      "cell_type": "code",
      "source": [
        "# Driver Code\n",
        "A = [-100, 10, 5, 6, -62, 23, 14, 4, 7, -78, 3, -12, 94, 97, -32, 1, 2] \n",
        "\n",
        "min,max = maxMin(A, 0, len(A) - 1)\n",
        "\n",
        "print('Minimum:', min)\n",
        "print('Maximum:', max)"
      ],
      "metadata": {
        "colab": {
          "base_uri": "https://localhost:8080/"
        },
        "id": "MkVt73UgvHwF",
        "outputId": "f7cb6f77-5bfb-4af2-ebfd-2185e18eed18"
      },
      "execution_count": 15,
      "outputs": [
        {
          "output_type": "stream",
          "name": "stdout",
          "text": [
            "Minimum: -100\n",
            "Maximum: 97\n"
          ]
        }
      ]
    },
    {
      "cell_type": "markdown",
      "source": [
        "# **Q5. Brute Force**"
      ],
      "metadata": {
        "id": "Dd6JNN2Lk4is"
      }
    },
    {
      "cell_type": "code",
      "source": [
        "def bruteForce(A, low, high):\n",
        "    maxProfit = 0\n",
        "    maxLeft = None\n",
        "    maxRight = None\n",
        "    for i in range (low, high - 1):\n",
        "        for j in range (i + 1, high):\n",
        "            profit = A[j] - A[i]\n",
        "            if profit > maxProfit:\n",
        "                maxLeft = i\n",
        "                maxRight = j\n",
        "                maxProfit = profit\n",
        "    return(maxLeft, maxRight, maxProfit)"
      ],
      "metadata": {
        "id": "15YkTb9UwzNZ"
      },
      "execution_count": 16,
      "outputs": []
    },
    {
      "cell_type": "code",
      "source": [
        "# Driver Code\n",
        "import numpy as np\n",
        "from timeit import default_timer as timer\n",
        "\n",
        "input = np.random.randint(0, 100, 10**3)\n",
        "\n",
        "start = timer()\n",
        "print(bruteForce(input, 0, len(input))) \n",
        "end = timer()\n",
        "print(end - start)"
      ],
      "metadata": {
        "colab": {
          "base_uri": "https://localhost:8080/"
        },
        "id": "IxOqwk7Dk9_2",
        "outputId": "53577e44-ae7a-4043-9652-5656202486ea"
      },
      "execution_count": 17,
      "outputs": [
        {
          "output_type": "stream",
          "name": "stdout",
          "text": [
            "(12, 33, 99)\n",
            "0.3053587950007568\n"
          ]
        }
      ]
    },
    {
      "cell_type": "code",
      "source": [
        "def maxCrossingSubarray(A, low, mid, high):\n",
        "    # Left half\n",
        "    leftSum = -100000\n",
        "    sum = 0\n",
        "\n",
        "    for i in range(mid, low - 1, -1):\n",
        "        sum = sum + A[i]\n",
        "\n",
        "        if(sum > leftSum):\n",
        "            leftSum = sum\n",
        "            maxLeft = i\n",
        "\n",
        "    # Right half\n",
        "    rightSum = -100000\n",
        "    sum = 0\n",
        "\n",
        "    for j in range(mid + 1, high + 1):\n",
        "        sum = sum + A[j]\n",
        "\n",
        "        if (sum > rightSum):\n",
        "            rightSum = sum\n",
        "            maxRight = j\n",
        "\n",
        "    return (maxLeft, maxRight, leftSum + rightSum)"
      ],
      "metadata": {
        "id": "NjHmmUUy8Rad"
      },
      "execution_count": 18,
      "outputs": []
    },
    {
      "cell_type": "code",
      "source": [
        "import math\n",
        "\n",
        "def maxSubArray(A, low, high):\n",
        "    if (high == low):\n",
        "        return (low, high, A[low])\n",
        "    else:\n",
        "        mid = math.floor((low + high) // 2)\n",
        "        leftLow, leftHigh, leftSum = maxSubArray(A, low, mid)\n",
        "        rightLow, rightHigh, rightSum = maxSubArray(A, mid + 1, high)\n",
        "        crossLow, crossHigh, crossSum = maxCrossingSubarray(A, low, mid, high)\n",
        "\n",
        "        if(leftSum >= rightSum and leftSum >= crossSum):\n",
        "            return (leftLow, leftHigh, leftSum)\n",
        "        elif (rightSum >= leftSum and rightSum >= crossSum):\n",
        "            return (rightLow, rightHigh, rightSum)\n",
        "        else:\n",
        "            return (crossLow, crossHigh, crossSum)\n"
      ],
      "metadata": {
        "id": "S46J35oMBC2X"
      },
      "execution_count": 19,
      "outputs": []
    },
    {
      "cell_type": "code",
      "source": [
        "A = [0]\n",
        "for i in range(1, len(input)):\n",
        "    A.append(input[i] - input[i - 1])\n",
        "\n",
        "start = timer()\n",
        "maxSum = maxSubArray(A, 0 , len(A) - 1)\n",
        "end = timer()\n",
        "print(end - start)\n",
        "print(maxSum)"
      ],
      "metadata": {
        "colab": {
          "base_uri": "https://localhost:8080/"
        },
        "id": "L-n2Od4fAXTs",
        "outputId": "4dc5b297-6613-4bc1-f263-e13e2bb39fde"
      },
      "execution_count": 20,
      "outputs": [
        {
          "output_type": "stream",
          "name": "stdout",
          "text": [
            "0.012046300999827508\n",
            "(13, 33, 99)\n"
          ]
        }
      ]
    },
    {
      "cell_type": "markdown",
      "source": [
        "Using asymptotic notations, compare the complexity of a brute-force method from Q5-(1)and your algorithm in Q5-(2).\n",
        "\n",
        "The brute force method has a time complexity of O(n^2) and the divide and conquer has a time complexity of O(n)"
      ],
      "metadata": {
        "id": "1UO1CsVJgL7i"
      }
    }
  ]
}